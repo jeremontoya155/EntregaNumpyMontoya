{
  "nbformat": 4,
  "nbformat_minor": 0,
  "metadata": {
    "colab": {
      "name": "EntregaDos.ipynb",
      "provenance": [],
      "collapsed_sections": [],
      "authorship_tag": "ABX9TyMsbLl9Db3n8OD+kJcRSgpR",
      "include_colab_link": true
    },
    "kernelspec": {
      "name": "python3",
      "display_name": "Python 3"
    },
    "language_info": {
      "name": "python"
    }
  },
  "cells": [
    {
      "cell_type": "markdown",
      "metadata": {
        "id": "view-in-github",
        "colab_type": "text"
      },
      "source": [
        "<a href=\"https://colab.research.google.com/github/jeremontoya155/EntregaNumpyMontoya/blob/main/EntregaDos.ipynb\" target=\"_parent\"><img src=\"https://colab.research.google.com/assets/colab-badge.svg\" alt=\"Open In Colab\"/></a>"
      ]
    },
    {
      "cell_type": "code",
      "execution_count": 1,
      "metadata": {
        "id": "bkdnDPojfCZc"
      },
      "outputs": [],
      "source": [
        "import random\n",
        "import numpy as np\n",
        "\n",
        "def funct1():\n",
        "    array=[]\n",
        "\n",
        "    for i in range(0,100):\n",
        "        array.append(random.randint(0,100))\n",
        "\n",
        "\n",
        "    #Mostramos previamente el array para verificar que estemos tomando el elemento de la mitad del  mismo\n",
        "    print(array)\n",
        "    return np.median(array)    "
      ]
    },
    {
      "cell_type": "code",
      "source": [
        "def factorial():\n",
        "    num=random.randint(1,10)\n",
        "    print(\"Usamos el numero:\"+str(num))\n",
        "    fact=np.math.factorial(num)\n",
        "\n",
        "    return fact"
      ],
      "metadata": {
        "id": "ToNVPcp0fSCb"
      },
      "execution_count": 2,
      "outputs": []
    },
    {
      "cell_type": "code",
      "source": [
        "def sumarSerie():\n",
        "    a=random.randint(1,10)\n",
        "    b=random.randint(50,100)\n",
        "    print(\"Usamos como cotas a:(\"+str(a)+\") y (\"+str(b)+\")\\n\")\n",
        "\n",
        "    array=np.arange(a,b)\n",
        "\n",
        "    print(array)\n",
        "    suma=np.sum(array)\n",
        "\n",
        "    print(\"\\nLa suma del array nos da:\"+str(suma))"
      ],
      "metadata": {
        "id": "wa6jb_m2fUFR"
      },
      "execution_count": 3,
      "outputs": []
    },
    {
      "cell_type": "code",
      "source": [
        "#funcion uno\n",
        "print(\"Funcion uno\")\n",
        "mediana=funct1()\n",
        "print(mediana)\n",
        "\n",
        "print(\"----------------------------------------\")\n",
        "#factorial con numpy\n",
        "print(\"Factorial con numpy\")\n",
        "numero=factorial()\n",
        "print(str(numero))\n",
        "\n",
        "print(\"----------------------------------------\")\n",
        "#Caso de serie con cotas con numpy\n",
        "print(\"Serie con numpy\")\n",
        "sumarSerie()"
      ],
      "metadata": {
        "id": "HmHuD9EFfVPB",
        "colab": {
          "base_uri": "https://localhost:8080/"
        },
        "outputId": "03988696-e823-4a58-e52b-b5e1e54c313f"
      },
      "execution_count": 4,
      "outputs": [
        {
          "output_type": "stream",
          "name": "stdout",
          "text": [
            "Funcion uno\n",
            "[46, 94, 84, 24, 69, 76, 72, 39, 97, 43, 49, 65, 0, 46, 19, 12, 75, 15, 52, 90, 43, 10, 36, 33, 100, 68, 43, 97, 36, 65, 44, 90, 52, 4, 87, 46, 96, 31, 22, 49, 56, 82, 48, 67, 37, 68, 74, 27, 35, 6, 15, 38, 13, 21, 52, 2, 64, 54, 26, 99, 5, 56, 52, 12, 0, 23, 19, 23, 75, 82, 87, 48, 3, 8, 5, 82, 97, 74, 43, 43, 65, 87, 10, 69, 11, 35, 93, 45, 77, 25, 66, 16, 39, 88, 15, 8, 67, 90, 53, 2]\n",
            "46.0\n",
            "----------------------------------------\n",
            "Factorial con numpy\n",
            "Usamos el numero:2\n",
            "2\n",
            "----------------------------------------\n",
            "Serie con numpy\n",
            "Usamos como cotas a:(10) y (78)\n",
            "\n",
            "[10 11 12 13 14 15 16 17 18 19 20 21 22 23 24 25 26 27 28 29 30 31 32 33\n",
            " 34 35 36 37 38 39 40 41 42 43 44 45 46 47 48 49 50 51 52 53 54 55 56 57\n",
            " 58 59 60 61 62 63 64 65 66 67 68 69 70 71 72 73 74 75 76 77]\n",
            "\n",
            "La suma del array nos da:2958\n"
          ]
        }
      ]
    }
  ]
}